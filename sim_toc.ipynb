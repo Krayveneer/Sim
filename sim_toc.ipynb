{
 "cells": [
  {
   "cell_type": "code",
   "execution_count": 1,
   "id": "5343987d",
   "metadata": {},
   "outputs": [],
   "source": [
    "import random\n",
    "import math\n",
    "import numpy as np\n",
    "import matplotlib.pyplot as plt"
   ]
  },
  {
   "cell_type": "code",
   "execution_count": 2,
   "id": "10f446c4",
   "metadata": {},
   "outputs": [],
   "source": [
    "# Compute Bitter Grammarian Catch Rate\n",
    "def cr_bg(trap_power, trap_luck):\n",
    "    return min(1, (trap_power*4 + 2*(math.floor(trap_luck*min(4,1.4))**2)) / (90000 + trap_power*4))\n",
    "\n",
    "# Compute Mythweaver Catch Rate\n",
    "def cr_mw(trap_power, trap_luck):\n",
    "    return min(1, (trap_power*7.5 + 2*(math.floor(trap_luck*min(7.5,1.4))**2)) / (200000 + trap_power*7.5))\n"
   ]
  },
  {
   "cell_type": "code",
   "execution_count": 3,
   "id": "e1c738de",
   "metadata": {},
   "outputs": [],
   "source": [
    "# Simulate Writing Session\n",
    "def simulate_writing(initial_hunts, initial_words, trap_power, trap_luck, word_multiplier):\n",
    "    # Set initial number of hunts, words, and hunts done\n",
    "    hunts_remaining = initial_hunts\n",
    "    total_words = initial_words\n",
    "    hunts_done = 0\n",
    "    mw_caught = 0\n",
    "\n",
    "    # Compute the catch rate based on trap power and trap luck\n",
    "    catch_bg = cr_bg(trap_power, trap_luck)\n",
    "    catch_mw = cr_mw(trap_power, trap_luck)\n",
    "\n",
    "    # Start writing\n",
    "    while hunts_remaining > 0:\n",
    "        # Add hunts done and reduce number of hunts\n",
    "        hunts_done += 1\n",
    "        hunts_remaining -= 1\n",
    "\n",
    "        # Determine mouse pool based on total words\n",
    "        if total_words < 4000:\n",
    "            # Only BG can appear\n",
    "            catch_prob = catch_bg\n",
    "            words = 250\n",
    "            bonus_hunts = 0\n",
    "            mw = 0\n",
    "        else:\n",
    "            # BG or MW can appear\n",
    "            if random.random() <= 0.6:\n",
    "                catch_prob = catch_bg\n",
    "                words = 250\n",
    "                bonus_hunts = 0\n",
    "                mw = 0\n",
    "            else:\n",
    "                catch_prob = catch_mw\n",
    "                words = 1000\n",
    "                bonus_hunts = 2\n",
    "                mw = 1\n",
    "\n",
    "        # Catch check\n",
    "        if random.random() <= catch_prob:\n",
    "            total_words += round(words * word_multiplier)\n",
    "            hunts_remaining += bonus_hunts\n",
    "            mw_caught += mw\n",
    "\n",
    "    return hunts_done, total_words, mw_caught\n"
   ]
  },
  {
   "cell_type": "code",
   "execution_count": 4,
   "id": "8c856f20",
   "metadata": {},
   "outputs": [],
   "source": [
    "# Do Monte Carlo loop\n",
    "def MC(n_runs, initial_hunts, initial_words, trap_power, trap_luck, word_multiplier):\n",
    "    # Define array\n",
    "    results_hunts = []\n",
    "    results_words = []\n",
    "    results_mws = []\n",
    "\n",
    "    # Run loop\n",
    "    for _ in range(n_runs):\n",
    "        hunts, words, mws = simulate_writing(initial_hunts, initial_words, trap_power, trap_luck, word_multiplier)\n",
    "        results_hunts.append(hunts)\n",
    "        results_words.append(words)\n",
    "        results_mws.append(mws)\n",
    "\n",
    "    # Compute the average\n",
    "    avg_hunts = np.mean(results_hunts)\n",
    "    avg_words = np.mean(results_words)\n",
    "    avg_mws = np.mean(results_mws)\n",
    "\n",
    "    return avg_hunts, avg_words, avg_mws, results_hunts, results_words, results_mws\n"
   ]
  },
  {
   "cell_type": "code",
   "execution_count": 6,
   "id": "e51ed0d2",
   "metadata": {},
   "outputs": [],
   "source": [
    "# Input parameter\n",
    "trap_power = int(input(\"Enter Trap Power: \"))\n",
    "trap_luck = int(input(\"Enter Trap Luck: \"))\n",
    "initial_hunts = int(input(\"Enter Initial Hunts: \"))\n",
    "initial_words = int(input(\"Enter Initial Words: \"))\n",
    "\n",
    "# Word Multiplier Prompt\n",
    "condensed = int(input(\"Condensed Creativity? (1=yes, 0=no): \"))\n",
    "silver = int(input(\"Silver Quill? (1=yes, 0=no): \"))\n",
    "gold = int(input(\"Gold Quill? (1=yes, 0=no): \"))\n",
    "rainbow = int(input(\"Rainbow Quill? (1=yes, 0=no): \"))"
   ]
  },
  {
   "cell_type": "code",
   "execution_count": 7,
   "id": "c6702479",
   "metadata": {},
   "outputs": [],
   "source": [
    "# Compute word multiplier\n",
    "word_multiplier = 1.0\n",
    "if condensed:\n",
    "    word_multiplier *= 2.0\n",
    "if silver:\n",
    "    word_multiplier *= 1.25\n",
    "if gold:\n",
    "    word_multiplier *= 1.50\n",
    "if rainbow:\n",
    "    word_multiplier *= 1.75\n",
    "\n",
    "# Do Monte Carlo Runs\n",
    "n_runs = 100000\n",
    "avg_hunts, avg_words, avg_mws, hunts_dist, words_dist, mws_dist = MC(n_runs, initial_hunts, initial_words, trap_power, trap_luck, word_multiplier)\n",
    "avg_vol = round(avg_words/4000)\n",
    "avg_gpl = avg_vol*54*2 # Always assume has Leather Bound Cover \n",
    "max_hunt = max(hunts_dist)\n",
    "max_word = max(words_dist)\n",
    "max_mws = max(mws_dist)\n",
    "max_vol = round(max_word/4000)\n",
    "max_gpl = max_vol*54*2 # Always assume has Leather Bound Cover"
   ]
  },
  {
   "cell_type": "code",
   "execution_count": 8,
   "id": "8db23a8c",
   "metadata": {},
   "outputs": [
    {
     "name": "stdout",
     "output_type": "stream",
     "text": [
      "===== Simulation Results =====\n",
      "Trap power: 55991, Trap luck: 104\n",
      "Catch rate BG: 84.73%\n",
      "Catch rate MW: 74.52%\n",
      "Word multiplier from boosters: x6.56\n",
      "Average hunts before countdown ends: 59.46\n",
      "Average Mythweaver caught: 17.73\n",
      "Average words written: 172935.15\n",
      "Average volumes written: 43\n",
      "Average Gnawbel Prize rewarded: 4644\n",
      "Max hunts observed: 210\n",
      "Max Mythweaver caught: 93\n",
      "Max words observed: 756751\n",
      "Max volumes written: 189\n",
      "Max Gnawbel Prize rewarded: 20412\n"
     ]
    }
   ],
   "source": [
    "# Print results\n",
    "print(\"===== Simulation Results =====\")\n",
    "print(f\"Trap power: {trap_power}, Trap luck: {trap_luck}\")\n",
    "print(f\"Catch rate BG: {cr_bg(trap_power, trap_luck):.2%}\")\n",
    "print(f\"Catch rate MW: {cr_mw(trap_power, trap_luck):.2%}\")\n",
    "print(f\"Word multiplier from boosters: x{word_multiplier:.2f}\")\n",
    "print(f\"Average hunts before countdown ends: {avg_hunts:.2f}\")\n",
    "print(f\"Average Mythweaver caught: {avg_mws:.2f}\")\n",
    "print(f\"Average words written: {avg_words:.2f}\")\n",
    "print(f\"Average volumes written: {avg_vol}\")\n",
    "print(f\"Average Gnawbel Prize rewarded: {avg_gpl}\")\n",
    "print(f\"Max hunts observed: {max_hunt}\")\n",
    "print(f\"Max Mythweaver caught: {max_mws}\")\n",
    "print(f\"Max words observed: {max_word}\")\n",
    "print(f\"Max volumes written: {max_vol}\")\n",
    "print(f\"Max Gnawbel Prize rewarded: {max_gpl}\")"
   ]
  },
  {
   "cell_type": "code",
   "execution_count": 9,
   "id": "6e6ea5b6",
   "metadata": {},
   "outputs": [
    {
     "data": {
      "image/png": "[encoded data removed]",
      "text/plain": [
       "<Figure size 1000x600 with 1 Axes>"
      ]
     },
     "metadata": {},
     "output_type": "display_data"
    }
   ],
   "source": [
    "# Plot normalized distribution\n",
    "volumes = [round(w/4000) for w in words_dist]\n",
    "plt.figure(figsize=(10,6))\n",
    "plt.hist(volumes, bins=range(min(volumes), max(volumes)+2), edgecolor='black', alpha=0.7, density=True)\n",
    "plt.title(\"Distribution of Volumes Written per Run\")\n",
    "plt.xlabel(\"Volumes Written\")\n",
    "plt.ylabel(\"Frequency\")\n",
    "plt.grid(axis='y', alpha=0.3)\n",
    "plt.tight_layout()\n",
    "plt.show()"
   ]
  },
  {
   "cell_type": "code",
   "execution_count": null,
   "id": "fa045a8f",
   "metadata": {},
   "outputs": [],
   "source": []
  }
 ],
 "metadata": {
  "kernelspec": {
   "display_name": "Python (venv)",
   "language": "python",
   "name": ".venv"
  },
  "language_info": {
   "codemirror_mode": {
    "name": "ipython",
    "version": 3
   },
   "file_extension": ".py",
   "mimetype": "text/x-python",
   "name": "python",
   "nbconvert_exporter": "python",
   "pygments_lexer": "ipython3",
   "version": "3.10.12"
  }
 },
 "nbformat": 4,
 "nbformat_minor": 5
}
